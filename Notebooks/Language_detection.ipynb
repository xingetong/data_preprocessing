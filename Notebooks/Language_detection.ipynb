{
 "cells": [
  {
   "cell_type": "code",
   "execution_count": 1,
   "id": "b05ad122",
   "metadata": {},
   "outputs": [],
   "source": [
    "import pandas as pd\n",
    "from transformers import AutoModelForSequenceClassification, AutoTokenizer\n",
    "from sklearn.metrics import accuracy_score, precision_recall_fscore_support\n",
    "from transformers import Trainer, TrainingArguments\n",
    "from transformers import pipeline\n",
    "from tqdm import tqdm"
   ]
  },
  {
   "cell_type": "code",
   "execution_count": 2,
   "id": "17231088",
   "metadata": {},
   "outputs": [],
   "source": [
    "df = pd.read_csv('./datasets/language_samples.csv', encoding='utf-8')"
   ]
  },
  {
   "cell_type": "code",
   "execution_count": 3,
   "id": "8527bb47",
   "metadata": {},
   "outputs": [
    {
     "data": {
      "text/html": [
       "<div>\n",
       "<style scoped>\n",
       "    .dataframe tbody tr th:only-of-type {\n",
       "        vertical-align: middle;\n",
       "    }\n",
       "\n",
       "    .dataframe tbody tr th {\n",
       "        vertical-align: top;\n",
       "    }\n",
       "\n",
       "    .dataframe thead th {\n",
       "        text-align: right;\n",
       "    }\n",
       "</style>\n",
       "<table border=\"1\" class=\"dataframe\">\n",
       "  <thead>\n",
       "    <tr style=\"text-align: right;\">\n",
       "      <th></th>\n",
       "      <th>id</th>\n",
       "      <th>content</th>\n",
       "      <th>recommend</th>\n",
       "    </tr>\n",
       "  </thead>\n",
       "  <tbody>\n",
       "    <tr>\n",
       "      <th>0</th>\n",
       "      <td>6464f9cfaf435089c9a909ff</td>\n",
       "      <td>\\r\\n\\t\\t\\t\\t\\t\\t\\t\\tПРИКОЛЬНАЯ ,ГРАФОН С КАЙФО...</td>\n",
       "      <td>True</td>\n",
       "    </tr>\n",
       "    <tr>\n",
       "      <th>1</th>\n",
       "      <td>6464f9d1af435089c9a90a00</td>\n",
       "      <td>\\r\\n\\t\\t\\t\\t\\t\\t\\t\\tВсё что я могу сказать о W...</td>\n",
       "      <td>True</td>\n",
       "    </tr>\n",
       "    <tr>\n",
       "      <th>2</th>\n",
       "      <td>6464f9d2af435089c9a90a01</td>\n",
       "      <td>\\r\\n\\t\\t\\t\\t\\t\\t\\t\\tbaşarılı güzel bir saklamb...</td>\n",
       "      <td>True</td>\n",
       "    </tr>\n",
       "    <tr>\n",
       "      <th>3</th>\n",
       "      <td>6464f9d3af435089c9a90a02</td>\n",
       "      <td>\\r\\n\\t\\t\\t\\t\\t\\t\\t\\tИгра прикольная, особенно ...</td>\n",
       "      <td>True</td>\n",
       "    </tr>\n",
       "    <tr>\n",
       "      <th>4</th>\n",
       "      <td>6464f9d4af435089c9a90a03</td>\n",
       "      <td>\\r\\n\\t\\t\\t\\t\\t\\t\\t\\tIts fun if you have a lot ...</td>\n",
       "      <td>False</td>\n",
       "    </tr>\n",
       "    <tr>\n",
       "      <th>...</th>\n",
       "      <td>...</td>\n",
       "      <td>...</td>\n",
       "      <td>...</td>\n",
       "    </tr>\n",
       "    <tr>\n",
       "      <th>15036</th>\n",
       "      <td>64674a56b23d27b0ee27768b</td>\n",
       "      <td>\\r\\n\\t\\t\\t\\t\\t\\t\\t\\tHahahaha not even played a...</td>\n",
       "      <td>True</td>\n",
       "    </tr>\n",
       "    <tr>\n",
       "      <th>15037</th>\n",
       "      <td>64674a57b23d27b0ee27768c</td>\n",
       "      <td>\\r\\n\\t\\t\\t\\t\\t\\t\\t\\tSimple and straight forwar...</td>\n",
       "      <td>True</td>\n",
       "    </tr>\n",
       "    <tr>\n",
       "      <th>15038</th>\n",
       "      <td>64674a57b23d27b0ee27768d</td>\n",
       "      <td>\\r\\n\\t\\t\\t\\t\\t\\t\\t\\tAmazingly fun game. Absolu...</td>\n",
       "      <td>True</td>\n",
       "    </tr>\n",
       "    <tr>\n",
       "      <th>15039</th>\n",
       "      <td>64674a59b23d27b0ee27768e</td>\n",
       "      <td>\\r\\n\\t\\t\\t\\t\\t\\t\\t\\t(Played in closed beta).De...</td>\n",
       "      <td>True</td>\n",
       "    </tr>\n",
       "    <tr>\n",
       "      <th>15040</th>\n",
       "      <td>64674a5cb23d27b0ee27768f</td>\n",
       "      <td>\\r\\n\\t\\t\\t\\t\\t\\t\\t\\tWow, this game is a lot of...</td>\n",
       "      <td>True</td>\n",
       "    </tr>\n",
       "  </tbody>\n",
       "</table>\n",
       "<p>15041 rows × 3 columns</p>\n",
       "</div>"
      ],
      "text/plain": [
       "                             id  \\\n",
       "0      6464f9cfaf435089c9a909ff   \n",
       "1      6464f9d1af435089c9a90a00   \n",
       "2      6464f9d2af435089c9a90a01   \n",
       "3      6464f9d3af435089c9a90a02   \n",
       "4      6464f9d4af435089c9a90a03   \n",
       "...                         ...   \n",
       "15036  64674a56b23d27b0ee27768b   \n",
       "15037  64674a57b23d27b0ee27768c   \n",
       "15038  64674a57b23d27b0ee27768d   \n",
       "15039  64674a59b23d27b0ee27768e   \n",
       "15040  64674a5cb23d27b0ee27768f   \n",
       "\n",
       "                                                 content  recommend  \n",
       "0      \\r\\n\\t\\t\\t\\t\\t\\t\\t\\tПРИКОЛЬНАЯ ,ГРАФОН С КАЙФО...       True  \n",
       "1      \\r\\n\\t\\t\\t\\t\\t\\t\\t\\tВсё что я могу сказать о W...       True  \n",
       "2      \\r\\n\\t\\t\\t\\t\\t\\t\\t\\tbaşarılı güzel bir saklamb...       True  \n",
       "3      \\r\\n\\t\\t\\t\\t\\t\\t\\t\\tИгра прикольная, особенно ...       True  \n",
       "4      \\r\\n\\t\\t\\t\\t\\t\\t\\t\\tIts fun if you have a lot ...      False  \n",
       "...                                                  ...        ...  \n",
       "15036  \\r\\n\\t\\t\\t\\t\\t\\t\\t\\tHahahaha not even played a...       True  \n",
       "15037  \\r\\n\\t\\t\\t\\t\\t\\t\\t\\tSimple and straight forwar...       True  \n",
       "15038  \\r\\n\\t\\t\\t\\t\\t\\t\\t\\tAmazingly fun game. Absolu...       True  \n",
       "15039  \\r\\n\\t\\t\\t\\t\\t\\t\\t\\t(Played in closed beta).De...       True  \n",
       "15040  \\r\\n\\t\\t\\t\\t\\t\\t\\t\\tWow, this game is a lot of...       True  \n",
       "\n",
       "[15041 rows x 3 columns]"
      ]
     },
     "execution_count": 3,
     "metadata": {},
     "output_type": "execute_result"
    }
   ],
   "source": [
    "data = pd.DataFrame({'id': df['_id'],\n",
    "                   'content': df['content'],\n",
    "                   'recommend': df['recommend']},\n",
    "                  columns = ['id','content', 'recommend'])\n",
    "\n",
    "data"
   ]
  },
  {
   "cell_type": "code",
   "execution_count": 4,
   "id": "10afa591",
   "metadata": {},
   "outputs": [],
   "source": [
    "from transformers import AutoTokenizer, AutoModelForSequenceClassification\n",
    "tokenizer = AutoTokenizer.from_pretrained(\"papluca/xlm-roberta-base-language-detection\")\n",
    "model = AutoModelForSequenceClassification.from_pretrained(\"papluca/xlm-roberta-base-language-detection\")\n",
    "classifier = pipeline('text-classification', model=model, tokenizer=tokenizer, max_length=512, truncation=True)"
   ]
  },
  {
   "cell_type": "code",
   "execution_count": 5,
   "id": "62d9a112",
   "metadata": {},
   "outputs": [
    {
     "data": {
      "text/plain": [
       "0    \\r\\n\\t\\t\\t\\t\\t\\t\\t\\tПРИКОЛЬНАЯ ,ГРАФОН С КАЙФО...\n",
       "1    \\r\\n\\t\\t\\t\\t\\t\\t\\t\\tВсё что я могу сказать о W...\n",
       "2    \\r\\n\\t\\t\\t\\t\\t\\t\\t\\tbaşarılı güzel bir saklamb...\n",
       "3    \\r\\n\\t\\t\\t\\t\\t\\t\\t\\tИгра прикольная, особенно ...\n",
       "4    \\r\\n\\t\\t\\t\\t\\t\\t\\t\\tIts fun if you have a lot ...\n",
       "5    \\r\\n\\t\\t\\t\\t\\t\\t\\t\\tKalabalık bir arkadaş grub...\n",
       "6    \\r\\n\\t\\t\\t\\t\\t\\t\\t\\tİyi güzel de çok çabuk sık...\n",
       "7    \\r\\n\\t\\t\\t\\t\\t\\t\\t\\tТоп игруха, особенно если ...\n",
       "8    \\r\\n\\t\\t\\t\\t\\t\\t\\t\\tв котлі відьми скрафтив от...\n",
       "9    \\r\\n\\t\\t\\t\\t\\t\\t\\t\\tAvadakedabra ich scheiß au...\n",
       "Name: content, dtype: object"
      ]
     },
     "execution_count": 5,
     "metadata": {},
     "output_type": "execute_result"
    }
   ],
   "source": [
    "df1=df['content'][:10]\n",
    "df1"
   ]
  },
  {
   "cell_type": "code",
   "execution_count": 6,
   "id": "3dcd92de",
   "metadata": {},
   "outputs": [],
   "source": [
    "results = classifier(df1.to_list())"
   ]
  },
  {
   "cell_type": "code",
   "execution_count": 7,
   "id": "ee17be61",
   "metadata": {},
   "outputs": [
    {
     "data": {
      "text/plain": [
       "[{'label': 'ru', 'score': 0.9962487816810608},\n",
       " {'label': 'ru', 'score': 0.9964159727096558},\n",
       " {'label': 'tr', 'score': 0.9959313273429871},\n",
       " {'label': 'ru', 'score': 0.9921022057533264},\n",
       " {'label': 'en', 'score': 0.9943448305130005},\n",
       " {'label': 'tr', 'score': 0.9954044818878174},\n",
       " {'label': 'tr', 'score': 0.9952253103256226},\n",
       " {'label': 'ru', 'score': 0.9944981932640076},\n",
       " {'label': 'ru', 'score': 0.893562376499176},\n",
       " {'label': 'de', 'score': 0.9947757720947266}]"
      ]
     },
     "execution_count": 7,
     "metadata": {},
     "output_type": "execute_result"
    }
   ],
   "source": [
    "results"
   ]
  },
  {
   "cell_type": "code",
   "execution_count": 8,
   "id": "c246e3dc",
   "metadata": {},
   "outputs": [],
   "source": [
    "total_results = classifier(df['content'].to_list())"
   ]
  },
  {
   "cell_type": "code",
   "execution_count": 9,
   "id": "4efa7256",
   "metadata": {},
   "outputs": [
    {
     "name": "stdout",
     "output_type": "stream",
     "text": [
      "      label     score\n",
      "0        ru  0.996249\n",
      "1        ru  0.996416\n",
      "2        tr  0.995931\n",
      "3        ru  0.992102\n",
      "4        en  0.994345\n",
      "...     ...       ...\n",
      "15036    en  0.994311\n",
      "15037    en  0.994425\n",
      "15038    en  0.994214\n",
      "15039    en  0.994229\n",
      "15040    en  0.994436\n",
      "\n",
      "[15041 rows x 2 columns]\n"
     ]
    }
   ],
   "source": [
    "name=['label','score']\n",
    "label_results=pd.DataFrame(columns=name,data=total_results)\n",
    "print(label_results)\n",
    "label_results.to_csv('./datasets/language_samples_labelled.csv',encoding='utf-8', index=False)"
   ]
  }
 ],
 "metadata": {
  "kernelspec": {
   "display_name": "Python 3 (ipykernel)",
   "language": "python",
   "name": "python3"
  },
  "language_info": {
   "codemirror_mode": {
    "name": "ipython",
    "version": 3
   },
   "file_extension": ".py",
   "mimetype": "text/x-python",
   "name": "python",
   "nbconvert_exporter": "python",
   "pygments_lexer": "ipython3",
   "version": "3.10.4"
  },
  "toc": {
   "base_numbering": 1,
   "nav_menu": {},
   "number_sections": true,
   "sideBar": true,
   "skip_h1_title": false,
   "title_cell": "Table of Contents",
   "title_sidebar": "Contents",
   "toc_cell": false,
   "toc_position": {},
   "toc_section_display": true,
   "toc_window_display": false
  }
 },
 "nbformat": 4,
 "nbformat_minor": 5
}
